{
 "cells": [
  {
   "cell_type": "markdown",
   "id": "207389f9",
   "metadata": {},
   "source": [
    "\n",
    "##\n",
    "**Student Performance Indicator**"
   ]
  },
  {
   "cell_type": "markdown",
   "id": "158a3d97",
   "metadata": {},
   "source": [
    "**Life cycle of Machine learning Project**\n",
    "\n",
    "*-->Understanding the Problem Statement*\n",
    "\n",
    "*-->Data Collection*\n",
    "    \n",
    "*-->Data Checks to perform*\n",
    "\n",
    "*-->Exploratory data analysis*\n",
    "\n",
    "*-->Data Pre-Processing*\n",
    "\n",
    "*-->Model Training*\n",
    "\n",
    "*-->Choose best model*"
   ]
  },
  {
   "cell_type": "code",
   "execution_count": null,
   "id": "00781d8a",
   "metadata": {},
   "outputs": [],
   "source": []
  },
  {
   "cell_type": "markdown",
   "id": "2787b0ce",
   "metadata": {},
   "source": [
    "**Problem Statement**\n",
    "\n",
    "This Project understands how the student's performance (test scores) is affected\n",
    "by other Variables such as Gender, Ethnicity, Parental level of education, Lunch and\n",
    "Test Preparation ConnectionRefusedError\n"
   ]
  },
  {
   "cell_type": "markdown",
   "id": "ccc1f0bf",
   "metadata": {},
   "source": [
    "##\n",
    "**2. Data Collection**\n",
    "\n"
   ]
  },
  {
   "cell_type": "markdown",
   "id": "33488ecf",
   "metadata": {},
   "source": []
  },
  {
   "cell_type": "code",
   "execution_count": null,
   "id": "2dd9d117",
   "metadata": {},
   "outputs": [],
   "source": []
  }
 ],
 "metadata": {
  "kernelspec": {
   "display_name": "Student_Score_prediction",
   "language": "python",
   "name": "python3"
  },
  "language_info": {
   "codemirror_mode": {
    "name": "ipython",
    "version": 3
   },
   "file_extension": ".py",
   "mimetype": "text/x-python",
   "name": "python",
   "nbconvert_exporter": "python",
   "pygments_lexer": "ipython3",
   "version": "3.11.12"
  }
 },
 "nbformat": 4,
 "nbformat_minor": 5
}
